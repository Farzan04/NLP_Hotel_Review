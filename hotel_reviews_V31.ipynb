{
 "cells": [
  {
   "cell_type": "code",
   "execution_count": 1,
   "id": "3a02e0c1",
   "metadata": {},
   "outputs": [],
   "source": [
    "import pandas as pd\n",
    "import numpy as np\n",
    "import matplotlib.pyplot as plt\n",
    "import seaborn as sns"
   ]
  },
  {
   "cell_type": "code",
   "execution_count": 2,
   "id": "2aba84f8",
   "metadata": {},
   "outputs": [],
   "source": [
    "import warnings\n",
    "warnings.filterwarnings(\"ignore\")"
   ]
  },
  {
   "cell_type": "code",
   "execution_count": 3,
   "id": "db265ae8",
   "metadata": {},
   "outputs": [
    {
     "data": {
      "text/html": [
       "<div>\n",
       "<style scoped>\n",
       "    .dataframe tbody tr th:only-of-type {\n",
       "        vertical-align: middle;\n",
       "    }\n",
       "\n",
       "    .dataframe tbody tr th {\n",
       "        vertical-align: top;\n",
       "    }\n",
       "\n",
       "    .dataframe thead th {\n",
       "        text-align: right;\n",
       "    }\n",
       "</style>\n",
       "<table border=\"1\" class=\"dataframe\">\n",
       "  <thead>\n",
       "    <tr style=\"text-align: right;\">\n",
       "      <th></th>\n",
       "      <th>label</th>\n",
       "      <th>word_len_review</th>\n",
       "      <th>string_len_review</th>\n",
       "      <th>aaa</th>\n",
       "      <th>abc</th>\n",
       "      <th>ability</th>\n",
       "      <th>abit</th>\n",
       "      <th>able</th>\n",
       "      <th>abroad</th>\n",
       "      <th>absolute</th>\n",
       "      <th>...</th>\n",
       "      <th>young</th>\n",
       "      <th>younger</th>\n",
       "      <th>yr</th>\n",
       "      <th>yuck</th>\n",
       "      <th>yum</th>\n",
       "      <th>yummy</th>\n",
       "      <th>yunque</th>\n",
       "      <th>zero</th>\n",
       "      <th>zone</th>\n",
       "      <th>zoo</th>\n",
       "    </tr>\n",
       "  </thead>\n",
       "  <tbody>\n",
       "    <tr>\n",
       "      <th>0</th>\n",
       "      <td>1</td>\n",
       "      <td>0.041580</td>\n",
       "      <td>0.040797</td>\n",
       "      <td>0.0</td>\n",
       "      <td>0.0</td>\n",
       "      <td>0.0</td>\n",
       "      <td>0.0</td>\n",
       "      <td>0.0</td>\n",
       "      <td>0.0</td>\n",
       "      <td>0.0</td>\n",
       "      <td>...</td>\n",
       "      <td>0.0</td>\n",
       "      <td>0.0</td>\n",
       "      <td>0.0</td>\n",
       "      <td>0.0</td>\n",
       "      <td>0.0</td>\n",
       "      <td>0.0</td>\n",
       "      <td>0.0</td>\n",
       "      <td>0.0</td>\n",
       "      <td>0.0</td>\n",
       "      <td>0.0</td>\n",
       "    </tr>\n",
       "    <tr>\n",
       "      <th>1</th>\n",
       "      <td>-1</td>\n",
       "      <td>0.126299</td>\n",
       "      <td>0.122241</td>\n",
       "      <td>0.0</td>\n",
       "      <td>0.0</td>\n",
       "      <td>0.0</td>\n",
       "      <td>0.0</td>\n",
       "      <td>0.0</td>\n",
       "      <td>0.0</td>\n",
       "      <td>0.0</td>\n",
       "      <td>...</td>\n",
       "      <td>0.0</td>\n",
       "      <td>0.0</td>\n",
       "      <td>0.0</td>\n",
       "      <td>0.0</td>\n",
       "      <td>0.0</td>\n",
       "      <td>0.0</td>\n",
       "      <td>0.0</td>\n",
       "      <td>0.0</td>\n",
       "      <td>0.0</td>\n",
       "      <td>0.0</td>\n",
       "    </tr>\n",
       "    <tr>\n",
       "      <th>2</th>\n",
       "      <td>0</td>\n",
       "      <td>0.109148</td>\n",
       "      <td>0.102772</td>\n",
       "      <td>0.0</td>\n",
       "      <td>0.0</td>\n",
       "      <td>0.0</td>\n",
       "      <td>0.0</td>\n",
       "      <td>0.0</td>\n",
       "      <td>0.0</td>\n",
       "      <td>0.0</td>\n",
       "      <td>...</td>\n",
       "      <td>0.0</td>\n",
       "      <td>0.0</td>\n",
       "      <td>0.0</td>\n",
       "      <td>0.0</td>\n",
       "      <td>0.0</td>\n",
       "      <td>0.0</td>\n",
       "      <td>0.0</td>\n",
       "      <td>0.0</td>\n",
       "      <td>0.0</td>\n",
       "      <td>0.0</td>\n",
       "    </tr>\n",
       "    <tr>\n",
       "      <th>3</th>\n",
       "      <td>1</td>\n",
       "      <td>0.042620</td>\n",
       "      <td>0.041317</td>\n",
       "      <td>0.0</td>\n",
       "      <td>0.0</td>\n",
       "      <td>0.0</td>\n",
       "      <td>0.0</td>\n",
       "      <td>0.0</td>\n",
       "      <td>0.0</td>\n",
       "      <td>0.0</td>\n",
       "      <td>...</td>\n",
       "      <td>0.0</td>\n",
       "      <td>0.0</td>\n",
       "      <td>0.0</td>\n",
       "      <td>0.0</td>\n",
       "      <td>0.0</td>\n",
       "      <td>0.0</td>\n",
       "      <td>0.0</td>\n",
       "      <td>0.0</td>\n",
       "      <td>0.0</td>\n",
       "      <td>0.0</td>\n",
       "    </tr>\n",
       "    <tr>\n",
       "      <th>4</th>\n",
       "      <td>1</td>\n",
       "      <td>0.095634</td>\n",
       "      <td>0.091922</td>\n",
       "      <td>0.0</td>\n",
       "      <td>0.0</td>\n",
       "      <td>0.0</td>\n",
       "      <td>0.0</td>\n",
       "      <td>0.0</td>\n",
       "      <td>0.0</td>\n",
       "      <td>0.0</td>\n",
       "      <td>...</td>\n",
       "      <td>0.0</td>\n",
       "      <td>0.0</td>\n",
       "      <td>0.0</td>\n",
       "      <td>0.0</td>\n",
       "      <td>0.0</td>\n",
       "      <td>0.0</td>\n",
       "      <td>0.0</td>\n",
       "      <td>0.0</td>\n",
       "      <td>0.0</td>\n",
       "      <td>0.0</td>\n",
       "    </tr>\n",
       "  </tbody>\n",
       "</table>\n",
       "<p>5 rows × 5003 columns</p>\n",
       "</div>"
      ],
      "text/plain": [
       "   label  word_len_review  string_len_review  aaa  abc  ability  abit  able  \\\n",
       "0      1         0.041580           0.040797  0.0  0.0      0.0   0.0   0.0   \n",
       "1     -1         0.126299           0.122241  0.0  0.0      0.0   0.0   0.0   \n",
       "2      0         0.109148           0.102772  0.0  0.0      0.0   0.0   0.0   \n",
       "3      1         0.042620           0.041317  0.0  0.0      0.0   0.0   0.0   \n",
       "4      1         0.095634           0.091922  0.0  0.0      0.0   0.0   0.0   \n",
       "\n",
       "   abroad  absolute  ...  young  younger   yr  yuck  yum  yummy  yunque  zero  \\\n",
       "0     0.0       0.0  ...    0.0      0.0  0.0   0.0  0.0    0.0     0.0   0.0   \n",
       "1     0.0       0.0  ...    0.0      0.0  0.0   0.0  0.0    0.0     0.0   0.0   \n",
       "2     0.0       0.0  ...    0.0      0.0  0.0   0.0  0.0    0.0     0.0   0.0   \n",
       "3     0.0       0.0  ...    0.0      0.0  0.0   0.0  0.0    0.0     0.0   0.0   \n",
       "4     0.0       0.0  ...    0.0      0.0  0.0   0.0  0.0    0.0     0.0   0.0   \n",
       "\n",
       "   zone  zoo  \n",
       "0   0.0  0.0  \n",
       "1   0.0  0.0  \n",
       "2   0.0  0.0  \n",
       "3   0.0  0.0  \n",
       "4   0.0  0.0  \n",
       "\n",
       "[5 rows x 5003 columns]"
      ]
     },
     "execution_count": 3,
     "metadata": {},
     "output_type": "execute_result"
    }
   ],
   "source": [
    "data = pd.read_csv('model_building_dataset1.csv')\n",
    "data.head()"
   ]
  },
  {
   "cell_type": "markdown",
   "id": "86208288",
   "metadata": {},
   "source": [
    "# Feature Engineering"
   ]
  },
  {
   "cell_type": "code",
   "execution_count": 4,
   "id": "82b69f35",
   "metadata": {},
   "outputs": [],
   "source": [
    "from sklearn.feature_selection import SelectKBest\n",
    "from sklearn.feature_selection import chi2"
   ]
  },
  {
   "cell_type": "code",
   "execution_count": 5,
   "id": "30952f9a",
   "metadata": {},
   "outputs": [
    {
     "data": {
      "text/plain": [
       "array([7.522, 5.76 , 0.392, ..., 0.911, 0.639, 1.64 ])"
      ]
     },
     "execution_count": 5,
     "metadata": {},
     "output_type": "execute_result"
    }
   ],
   "source": [
    "model = SelectKBest(score_func=chi2, k='all')\n",
    "fit = model.fit(data.iloc[:,1:], data.iloc[:,0])\n",
    "scores = np.around(fit.scores_, 3)\n",
    "scores"
   ]
  },
  {
   "cell_type": "code",
   "execution_count": 6,
   "id": "229abdec",
   "metadata": {},
   "outputs": [
    {
     "data": {
      "text/plain": [
       "[1, 2, 6, 9, 10]"
      ]
     },
     "execution_count": 6,
     "metadata": {},
     "output_type": "execute_result"
    }
   ],
   "source": [
    "idx_cols = list(np.where(scores>0.5)[0])\n",
    "idx_cols = [x+1 for x in idx_cols]\n",
    "idx_cols[:5]"
   ]
  },
  {
   "cell_type": "code",
   "execution_count": 7,
   "id": "56a117b6",
   "metadata": {},
   "outputs": [
    {
     "data": {
      "text/plain": [
       "(20491, 5003)"
      ]
     },
     "execution_count": 7,
     "metadata": {},
     "output_type": "execute_result"
    }
   ],
   "source": [
    "data.shape"
   ]
  },
  {
   "cell_type": "code",
   "execution_count": 8,
   "id": "efc1aa34",
   "metadata": {},
   "outputs": [
    {
     "data": {
      "text/html": [
       "<div>\n",
       "<style scoped>\n",
       "    .dataframe tbody tr th:only-of-type {\n",
       "        vertical-align: middle;\n",
       "    }\n",
       "\n",
       "    .dataframe tbody tr th {\n",
       "        vertical-align: top;\n",
       "    }\n",
       "\n",
       "    .dataframe thead th {\n",
       "        text-align: right;\n",
       "    }\n",
       "</style>\n",
       "<table border=\"1\" class=\"dataframe\">\n",
       "  <thead>\n",
       "    <tr style=\"text-align: right;\">\n",
       "      <th></th>\n",
       "      <th>label</th>\n",
       "      <th>word_len_review</th>\n",
       "      <th>string_len_review</th>\n",
       "      <th>abit</th>\n",
       "      <th>absolute</th>\n",
       "      <th>absolutely</th>\n",
       "      <th>absolutley</th>\n",
       "      <th>absolutly</th>\n",
       "      <th>abundant</th>\n",
       "      <th>ac</th>\n",
       "      <th>...</th>\n",
       "      <th>yellow</th>\n",
       "      <th>yoga</th>\n",
       "      <th>yoghurt</th>\n",
       "      <th>yogurt</th>\n",
       "      <th>york</th>\n",
       "      <th>yuck</th>\n",
       "      <th>yummy</th>\n",
       "      <th>zero</th>\n",
       "      <th>zone</th>\n",
       "      <th>zoo</th>\n",
       "    </tr>\n",
       "  </thead>\n",
       "  <tbody>\n",
       "    <tr>\n",
       "      <th>0</th>\n",
       "      <td>1</td>\n",
       "      <td>0.041580</td>\n",
       "      <td>0.040797</td>\n",
       "      <td>0.0</td>\n",
       "      <td>0.0</td>\n",
       "      <td>0.0</td>\n",
       "      <td>0.0</td>\n",
       "      <td>0.0</td>\n",
       "      <td>0.0</td>\n",
       "      <td>0.000000</td>\n",
       "      <td>...</td>\n",
       "      <td>0.0</td>\n",
       "      <td>0.0</td>\n",
       "      <td>0.0</td>\n",
       "      <td>0.0</td>\n",
       "      <td>0.0</td>\n",
       "      <td>0.0</td>\n",
       "      <td>0.0</td>\n",
       "      <td>0.0</td>\n",
       "      <td>0.0</td>\n",
       "      <td>0.0</td>\n",
       "    </tr>\n",
       "    <tr>\n",
       "      <th>1</th>\n",
       "      <td>-1</td>\n",
       "      <td>0.126299</td>\n",
       "      <td>0.122241</td>\n",
       "      <td>0.0</td>\n",
       "      <td>0.0</td>\n",
       "      <td>0.0</td>\n",
       "      <td>0.0</td>\n",
       "      <td>0.0</td>\n",
       "      <td>0.0</td>\n",
       "      <td>0.062472</td>\n",
       "      <td>...</td>\n",
       "      <td>0.0</td>\n",
       "      <td>0.0</td>\n",
       "      <td>0.0</td>\n",
       "      <td>0.0</td>\n",
       "      <td>0.0</td>\n",
       "      <td>0.0</td>\n",
       "      <td>0.0</td>\n",
       "      <td>0.0</td>\n",
       "      <td>0.0</td>\n",
       "      <td>0.0</td>\n",
       "    </tr>\n",
       "    <tr>\n",
       "      <th>2</th>\n",
       "      <td>0</td>\n",
       "      <td>0.109148</td>\n",
       "      <td>0.102772</td>\n",
       "      <td>0.0</td>\n",
       "      <td>0.0</td>\n",
       "      <td>0.0</td>\n",
       "      <td>0.0</td>\n",
       "      <td>0.0</td>\n",
       "      <td>0.0</td>\n",
       "      <td>0.077393</td>\n",
       "      <td>...</td>\n",
       "      <td>0.0</td>\n",
       "      <td>0.0</td>\n",
       "      <td>0.0</td>\n",
       "      <td>0.0</td>\n",
       "      <td>0.0</td>\n",
       "      <td>0.0</td>\n",
       "      <td>0.0</td>\n",
       "      <td>0.0</td>\n",
       "      <td>0.0</td>\n",
       "      <td>0.0</td>\n",
       "    </tr>\n",
       "    <tr>\n",
       "      <th>3</th>\n",
       "      <td>1</td>\n",
       "      <td>0.042620</td>\n",
       "      <td>0.041317</td>\n",
       "      <td>0.0</td>\n",
       "      <td>0.0</td>\n",
       "      <td>0.0</td>\n",
       "      <td>0.0</td>\n",
       "      <td>0.0</td>\n",
       "      <td>0.0</td>\n",
       "      <td>0.000000</td>\n",
       "      <td>...</td>\n",
       "      <td>0.0</td>\n",
       "      <td>0.0</td>\n",
       "      <td>0.0</td>\n",
       "      <td>0.0</td>\n",
       "      <td>0.0</td>\n",
       "      <td>0.0</td>\n",
       "      <td>0.0</td>\n",
       "      <td>0.0</td>\n",
       "      <td>0.0</td>\n",
       "      <td>0.0</td>\n",
       "    </tr>\n",
       "    <tr>\n",
       "      <th>4</th>\n",
       "      <td>1</td>\n",
       "      <td>0.095634</td>\n",
       "      <td>0.091922</td>\n",
       "      <td>0.0</td>\n",
       "      <td>0.0</td>\n",
       "      <td>0.0</td>\n",
       "      <td>0.0</td>\n",
       "      <td>0.0</td>\n",
       "      <td>0.0</td>\n",
       "      <td>0.000000</td>\n",
       "      <td>...</td>\n",
       "      <td>0.0</td>\n",
       "      <td>0.0</td>\n",
       "      <td>0.0</td>\n",
       "      <td>0.0</td>\n",
       "      <td>0.0</td>\n",
       "      <td>0.0</td>\n",
       "      <td>0.0</td>\n",
       "      <td>0.0</td>\n",
       "      <td>0.0</td>\n",
       "      <td>0.0</td>\n",
       "    </tr>\n",
       "  </tbody>\n",
       "</table>\n",
       "<p>5 rows × 3340 columns</p>\n",
       "</div>"
      ],
      "text/plain": [
       "   label  word_len_review  string_len_review  abit  absolute  absolutely  \\\n",
       "0      1         0.041580           0.040797   0.0       0.0         0.0   \n",
       "1     -1         0.126299           0.122241   0.0       0.0         0.0   \n",
       "2      0         0.109148           0.102772   0.0       0.0         0.0   \n",
       "3      1         0.042620           0.041317   0.0       0.0         0.0   \n",
       "4      1         0.095634           0.091922   0.0       0.0         0.0   \n",
       "\n",
       "   absolutley  absolutly  abundant        ac  ...  yellow  yoga  yoghurt  \\\n",
       "0         0.0        0.0       0.0  0.000000  ...     0.0   0.0      0.0   \n",
       "1         0.0        0.0       0.0  0.062472  ...     0.0   0.0      0.0   \n",
       "2         0.0        0.0       0.0  0.077393  ...     0.0   0.0      0.0   \n",
       "3         0.0        0.0       0.0  0.000000  ...     0.0   0.0      0.0   \n",
       "4         0.0        0.0       0.0  0.000000  ...     0.0   0.0      0.0   \n",
       "\n",
       "   yogurt  york  yuck  yummy  zero  zone  zoo  \n",
       "0     0.0   0.0   0.0    0.0   0.0   0.0  0.0  \n",
       "1     0.0   0.0   0.0    0.0   0.0   0.0  0.0  \n",
       "2     0.0   0.0   0.0    0.0   0.0   0.0  0.0  \n",
       "3     0.0   0.0   0.0    0.0   0.0   0.0  0.0  \n",
       "4     0.0   0.0   0.0    0.0   0.0   0.0  0.0  \n",
       "\n",
       "[5 rows x 3340 columns]"
      ]
     },
     "execution_count": 8,
     "metadata": {},
     "output_type": "execute_result"
    }
   ],
   "source": [
    "data = pd.concat([data.iloc[:,0],data.iloc[:,idx_cols]], axis=1)\n",
    "data.head()"
   ]
  },
  {
   "cell_type": "code",
   "execution_count": 9,
   "id": "43c25ad5",
   "metadata": {},
   "outputs": [
    {
     "data": {
      "text/plain": [
       "(20491, 3340)"
      ]
     },
     "execution_count": 9,
     "metadata": {},
     "output_type": "execute_result"
    }
   ],
   "source": [
    "data.shape"
   ]
  },
  {
   "cell_type": "code",
   "execution_count": null,
   "id": "6818b1fa",
   "metadata": {},
   "outputs": [],
   "source": []
  },
  {
   "cell_type": "markdown",
   "id": "fc6d95a6",
   "metadata": {},
   "source": [
    "# Model Building"
   ]
  },
  {
   "cell_type": "code",
   "execution_count": 10,
   "id": "5fa7ad81",
   "metadata": {},
   "outputs": [],
   "source": [
    "from sklearn.model_selection import train_test_split\n",
    "from sklearn.model_selection import KFold, cross_val_score, GridSearchCV\n",
    "\n",
    "from sklearn.metrics import classification_report, accuracy_score, f1_score\n",
    "from sklearn.metrics import precision_score, recall_score\n",
    "from sklearn.metrics import confusion_matrix"
   ]
  },
  {
   "cell_type": "code",
   "execution_count": 11,
   "id": "f8907628",
   "metadata": {},
   "outputs": [],
   "source": [
    "X = data.iloc[:,1:]\n",
    "y = data.iloc[:,0]"
   ]
  },
  {
   "cell_type": "code",
   "execution_count": 12,
   "id": "37e46cbd",
   "metadata": {},
   "outputs": [
    {
     "name": "stdout",
     "output_type": "stream",
     "text": [
      "(16392, 3339) (16392,) (4099, 3339) (4099,)\n"
     ]
    }
   ],
   "source": [
    "X_train, X_test, y_train, y_test = train_test_split(X, y, test_size=0.2, random_state=1, stratify=y)\n",
    "print(X_train.shape, y_train.shape, X_test.shape, y_test.shape)"
   ]
  },
  {
   "cell_type": "code",
   "execution_count": null,
   "id": "2228ceaa",
   "metadata": {},
   "outputs": [],
   "source": []
  },
  {
   "cell_type": "markdown",
   "id": "84a48562",
   "metadata": {},
   "source": [
    "## 1).Logistic Regression"
   ]
  },
  {
   "cell_type": "code",
   "execution_count": 13,
   "id": "559b21fc",
   "metadata": {},
   "outputs": [],
   "source": [
    "from sklearn.linear_model import LogisticRegression"
   ]
  },
  {
   "cell_type": "markdown",
   "id": "5da867a6",
   "metadata": {},
   "source": [
    "+ Since we are going to use One Vs Rest algorithm, set **multi_class='ovr'**\n",
    "+ Note: since we are using One Vs Rest algorithm we must use **'liblinear' solver** with it."
   ]
  },
  {
   "cell_type": "code",
   "execution_count": 14,
   "id": "1d9ddf00",
   "metadata": {},
   "outputs": [
    {
     "data": {
      "text/plain": [
       "LogisticRegression(class_weight='balanced', multi_class='ovr',\n",
       "                   solver='liblinear')"
      ]
     },
     "execution_count": 14,
     "metadata": {},
     "output_type": "execute_result"
    }
   ],
   "source": [
    "model = LogisticRegression(class_weight='balanced', multi_class='ovr', solver='liblinear')\n",
    "model.fit(X_train, y_train)"
   ]
  },
  {
   "cell_type": "code",
   "execution_count": 15,
   "id": "2b8bb214",
   "metadata": {},
   "outputs": [
    {
     "name": "stdout",
     "output_type": "stream",
     "text": [
      "Accuracy Score:  0.901\n",
      "F1 Score:  0.899\n",
      "Precision Score:  0.898\n",
      "Recall Score:  0.901\n"
     ]
    }
   ],
   "source": [
    "y_train_pred = model.predict(X_train)\n",
    "print('Accuracy Score: ',round(accuracy_score(y_train, y_train_pred),3))\n",
    "print('F1 Score: ',round(f1_score(y_train, y_train_pred, average='weighted'),3))\n",
    "print('Precision Score: ',round(precision_score(y_train, y_train_pred, average='weighted'),3))\n",
    "print('Recall Score: ',round(recall_score(y_train, y_train_pred, average='weighted'),3))"
   ]
  },
  {
   "cell_type": "code",
   "execution_count": 16,
   "id": "74b78371",
   "metadata": {},
   "outputs": [
    {
     "data": {
      "image/png": "[encoded data removed]",
      "text/plain": [
       "<Figure size 576x432 with 2 Axes>"
      ]
     },
     "metadata": {
      "needs_background": "light"
     },
     "output_type": "display_data"
    }
   ],
   "source": [
    "cm = confusion_matrix(y_train, y_train_pred)\n",
    "dt = {'Negative':list(cm[0]), 'Neutral':list(cm[1]), 'Positive':list(cm[2])}\n",
    "cm_df = pd.DataFrame(dt, index=['Negative', 'Neutral', 'Positive'])\n",
    "\n",
    "plt.figure(figsize=(8,6))\n",
    "sns.heatmap(cm_df,annot=True,fmt='.0f', linewidths=1)\n",
    "plt.ylabel('Predictions', fontsize=18)\n",
    "plt.xlabel('Actuals', fontsize=18)\n",
    "plt.title('Confusion Matrix', fontsize=18)\n",
    "plt.show()"
   ]
  },
  {
   "cell_type": "code",
   "execution_count": 17,
   "id": "76c01af5",
   "metadata": {},
   "outputs": [
    {
     "name": "stdout",
     "output_type": "stream",
     "text": [
      "Accuracy Score:  0.85\n",
      "F1 Score:  0.847\n",
      "Precision Score:  0.845\n",
      "Recall Score:  0.85\n"
     ]
    }
   ],
   "source": [
    "y_test_pred = model.predict(X_test)\n",
    "print('Accuracy Score: ',round(accuracy_score(y_test, y_test_pred),3))\n",
    "print('F1 Score: ',round(f1_score(y_test, y_test_pred, average='weighted'),3))\n",
    "print('Precision Score: ',round(precision_score(y_test, y_test_pred, average='weighted'),3))\n",
    "print('Recall Score: ',round(recall_score(y_test, y_test_pred, average='weighted'),3))"
   ]
  },
  {
   "cell_type": "code",
   "execution_count": 18,
   "id": "600f0bde",
   "metadata": {},
   "outputs": [
    {
     "name": "stdout",
     "output_type": "stream",
     "text": [
      "Classification Report: \n",
      "               precision    recall  f1-score   support\n",
      "\n",
      "          -1      0.753     0.771     0.762       643\n",
      "           0      0.422     0.373     0.396       437\n",
      "           1      0.926     0.936     0.931      3019\n",
      "\n",
      "    accuracy                          0.850      4099\n",
      "   macro avg      0.700     0.694     0.696      4099\n",
      "weighted avg      0.845     0.850     0.847      4099\n",
      "\n"
     ]
    }
   ],
   "source": [
    "print('Classification Report: \\n',classification_report(y_test, y_test_pred, digits=3))"
   ]
  },
  {
   "cell_type": "code",
   "execution_count": 19,
   "id": "824a1e0a",
   "metadata": {},
   "outputs": [
    {
     "data": {
      "image/png": "[encoded data removed]",
      "text/plain": [
       "<Figure size 576x432 with 2 Axes>"
      ]
     },
     "metadata": {
      "needs_background": "light"
     },
     "output_type": "display_data"
    }
   ],
   "source": [
    "cm = confusion_matrix(y_test, y_test_pred)\n",
    "dt = {'Negative':list(cm[0]), 'Neutral':list(cm[1]), 'Positive':list(cm[2])}\n",
    "cm_df = pd.DataFrame(dt, index=['Negative', 'Neutral', 'Positive'])\n",
    "\n",
    "plt.figure(figsize=(8,6))\n",
    "sns.heatmap(cm_df,annot=True,fmt='.0f')\n",
    "plt.ylabel('Predictions', fontsize=18)\n",
    "plt.xlabel('Actuals', fontsize=18)\n",
    "plt.title('Confusion Matrix', fontsize=18)\n",
    "plt.show()"
   ]
  },
  {
   "cell_type": "code",
   "execution_count": null,
   "id": "ecdbc54c",
   "metadata": {},
   "outputs": [],
   "source": []
  },
  {
   "cell_type": "markdown",
   "id": "14e5c6a7",
   "metadata": {},
   "source": [
    "## 2).K-NN"
   ]
  },
  {
   "cell_type": "code",
   "execution_count": 20,
   "id": "4342c927",
   "metadata": {},
   "outputs": [],
   "source": [
    "from sklearn.neighbors import KNeighborsClassifier"
   ]
  },
  {
   "cell_type": "code",
   "execution_count": 21,
   "id": "5a5cb328",
   "metadata": {},
   "outputs": [
    {
     "data": {
      "text/plain": [
       "0.7385307355532768"
      ]
     },
     "execution_count": 21,
     "metadata": {},
     "output_type": "execute_result"
    }
   ],
   "source": [
    "model = KNeighborsClassifier()\n",
    "\n",
    "kfold = KFold(n_splits=5)\n",
    "result = cross_val_score(model, X_train, y_train, cv=kfold)\n",
    "result.mean()"
   ]
  },
  {
   "cell_type": "markdown",
   "id": "9f94c109",
   "metadata": {},
   "source": [
    "### Hyperparameter Tunning"
   ]
  },
  {
   "cell_type": "code",
   "execution_count": 22,
   "id": "cb2fd124",
   "metadata": {},
   "outputs": [
    {
     "data": {
      "image/png": "[encoded data removed]",
      "text/plain": [
       "<Figure size 432x288 with 1 Axes>"
      ]
     },
     "metadata": {
      "needs_background": "light"
     },
     "output_type": "display_data"
    }
   ],
   "source": [
    "#Elbow Plot\n",
    "acc = []\n",
    "for k in range(1, 11):\n",
    "    knn = KNeighborsClassifier(n_neighbors=k)\n",
    "    knn.fit(X_train , y_train)\n",
    "    y_predict = knn.predict(X_train)\n",
    "    acc.append(accuracy_score(y_train , y_predict))\n",
    "    \n",
    "plt.plot(range(1, 11), acc)\n",
    "plt.title('Elbow Method')\n",
    "plt.xlabel('Number of Neighbour')\n",
    "plt.ylabel('ACCURACY')\n",
    "plt.show()"
   ]
  },
  {
   "cell_type": "code",
   "execution_count": 23,
   "id": "5d5d7ada",
   "metadata": {},
   "outputs": [
    {
     "data": {
      "text/plain": [
       "GridSearchCV(cv=KFold(n_splits=5, random_state=None, shuffle=False),\n",
       "             estimator=KNeighborsClassifier(), n_jobs=2,\n",
       "             param_grid={'n_neighbors': array([1, 2, 3, 4, 5, 6, 7, 8, 9])})"
      ]
     },
     "execution_count": 23,
     "metadata": {},
     "output_type": "execute_result"
    }
   ],
   "source": [
    "# Hyper parameter Value\n",
    "kfold = KFold()\n",
    "n_neighbors = np.array(range(1,10))\n",
    "param_grid = {'n_neighbors':n_neighbors}\n",
    "\n",
    "# Hyper parameter tunning using GridSearchCV\n",
    "model = KNeighborsClassifier()\n",
    "grid = GridSearchCV(estimator=model, param_grid=param_grid , cv = kfold, n_jobs=2)\n",
    "grid.fit(X_train, y_train)"
   ]
  },
  {
   "cell_type": "code",
   "execution_count": 24,
   "id": "5cb54766",
   "metadata": {},
   "outputs": [
    {
     "name": "stdout",
     "output_type": "stream",
     "text": [
      "0.7388967938222806\n",
      "{'n_neighbors': 6}\n"
     ]
    }
   ],
   "source": [
    "print(grid.best_score_)\n",
    "print(grid.best_params_)"
   ]
  },
  {
   "cell_type": "code",
   "execution_count": 25,
   "id": "f0ab1517",
   "metadata": {},
   "outputs": [],
   "source": [
    "para = grid.best_params_"
   ]
  },
  {
   "cell_type": "markdown",
   "id": "94c2f25c",
   "metadata": {},
   "source": [
    "### K-NN Model Building"
   ]
  },
  {
   "cell_type": "code",
   "execution_count": 26,
   "id": "3ef04b5b",
   "metadata": {},
   "outputs": [
    {
     "data": {
      "text/plain": [
       "KNeighborsClassifier(n_neighbors=6)"
      ]
     },
     "execution_count": 26,
     "metadata": {},
     "output_type": "execute_result"
    }
   ],
   "source": [
    "model = KNeighborsClassifier(n_neighbors=para['n_neighbors'])\n",
    "model.fit(X_train, y_train)"
   ]
  },
  {
   "cell_type": "code",
   "execution_count": 27,
   "id": "3463b187",
   "metadata": {},
   "outputs": [
    {
     "name": "stdout",
     "output_type": "stream",
     "text": [
      "Training Scores:-\n",
      "Accuracy Score:  0.746\n",
      "F1 Score:  0.649\n",
      "Precision Score:  0.772\n",
      "Recall Score:  0.746\n",
      "\n",
      "Testing Scores:-\n",
      "Accuracy Score:  0.738\n",
      "F1 Score:  0.632\n",
      "Precision Score:  0.665\n",
      "Recall Score:  0.738\n"
     ]
    }
   ],
   "source": [
    "y_train_pred = model.predict(X_train)\n",
    "print('Training Scores:-')\n",
    "print('Accuracy Score: ',round(accuracy_score(y_train, y_train_pred),3))\n",
    "print('F1 Score: ',round(f1_score(y_train, y_train_pred, average='weighted'),3))\n",
    "print('Precision Score: ',round(precision_score(y_train, y_train_pred, average='weighted'),3))\n",
    "print('Recall Score: ',round(recall_score(y_train, y_train_pred, average='weighted'),3))\n",
    "\n",
    "y_test_pred = model.predict(X_test)\n",
    "print('\\nTesting Scores:-')\n",
    "print('Accuracy Score: ',round(accuracy_score(y_test, y_test_pred),3))\n",
    "print('F1 Score: ',round(f1_score(y_test, y_test_pred, average='weighted'),3))\n",
    "print('Precision Score: ',round(precision_score(y_test, y_test_pred, average='weighted'),3))\n",
    "print('Recall Score: ',round(recall_score(y_test, y_test_pred, average='weighted'),3))"
   ]
  },
  {
   "cell_type": "code",
   "execution_count": 28,
   "id": "d7146b61",
   "metadata": {},
   "outputs": [
    {
     "data": {
      "image/png": "[encoded data removed]",
      "text/plain": [
       "<Figure size 576x432 with 2 Axes>"
      ]
     },
     "metadata": {
      "needs_background": "light"
     },
     "output_type": "display_data"
    }
   ],
   "source": [
    "cm = confusion_matrix(y_train, y_train_pred)\n",
    "dt = {'Negative':list(cm[0]), 'Neutral':list(cm[1]), 'Positive':list(cm[2])}\n",
    "cm_df = pd.DataFrame(dt, index=['Negative', 'Neutral', 'Positive'])\n",
    "\n",
    "plt.figure(figsize=(8,6))\n",
    "sns.heatmap(cm_df,annot=True,fmt='.0f', linewidths=1)\n",
    "plt.ylabel('Predictions', fontsize=18)\n",
    "plt.xlabel('Actuals', fontsize=18)\n",
    "plt.title('Training Confusion Matrix', fontsize=18)\n",
    "plt.show()"
   ]
  },
  {
   "cell_type": "code",
   "execution_count": 29,
   "id": "9cd0397a",
   "metadata": {},
   "outputs": [
    {
     "data": {
      "image/png": "[encoded data removed]",
      "text/plain": [
       "<Figure size 576x432 with 2 Axes>"
      ]
     },
     "metadata": {
      "needs_background": "light"
     },
     "output_type": "display_data"
    }
   ],
   "source": [
    "cm = confusion_matrix(y_test, y_test_pred)\n",
    "dt = {'Negative':list(cm[0]), 'Neutral':list(cm[1]), 'Positive':list(cm[2])}\n",
    "cm_df = pd.DataFrame(dt, index=['Negative', 'Neutral', 'Positive'])\n",
    "\n",
    "plt.figure(figsize=(8,6))\n",
    "sns.heatmap(cm_df,annot=True,fmt='.0f')\n",
    "plt.ylabel('Predictions', fontsize=18)\n",
    "plt.xlabel('Actuals', fontsize=18)\n",
    "plt.title('Testing Confusion Matrix', fontsize=18)\n",
    "plt.show()"
   ]
  },
  {
   "cell_type": "code",
   "execution_count": null,
   "id": "585b53ab",
   "metadata": {},
   "outputs": [],
   "source": []
  },
  {
   "cell_type": "markdown",
   "id": "06de912a",
   "metadata": {},
   "source": [
    "## 3).Naive Bayes classifier "
   ]
  },
  {
   "cell_type": "code",
   "execution_count": 30,
   "id": "945bac2b",
   "metadata": {},
   "outputs": [],
   "source": [
    "from sklearn.naive_bayes import MultinomialNB"
   ]
  },
  {
   "cell_type": "code",
   "execution_count": 31,
   "id": "04705655",
   "metadata": {},
   "outputs": [
    {
     "data": {
      "text/plain": [
       "0.826168484236713"
      ]
     },
     "execution_count": 31,
     "metadata": {},
     "output_type": "execute_result"
    }
   ],
   "source": [
    "model = MultinomialNB()\n",
    "\n",
    "kfold = KFold(n_splits=5)\n",
    "result = cross_val_score(model, data.iloc[:,1:], data.iloc[:,0], cv=kfold)\n",
    "result.mean()"
   ]
  },
  {
   "cell_type": "markdown",
   "id": "49ab694a",
   "metadata": {},
   "source": [
    "### Hyperparameter Tunning"
   ]
  },
  {
   "cell_type": "code",
   "execution_count": 32,
   "id": "5692ff39",
   "metadata": {},
   "outputs": [
    {
     "data": {
      "text/plain": [
       "GridSearchCV(cv=KFold(n_splits=5, random_state=None, shuffle=False),\n",
       "             estimator=MultinomialNB(), n_jobs=2,\n",
       "             param_grid={'alpha': array([0.1, 0.2, 0.3, 0.4, 0.5, 0.6, 0.7, 0.8, 0.9, 1. ])})"
      ]
     },
     "execution_count": 32,
     "metadata": {},
     "output_type": "execute_result"
    }
   ],
   "source": [
    "# Hyper parameter Value\n",
    "kfold = KFold()\n",
    "alpha = np.arange(0.1, 1.1, 0.1)\n",
    "param_grid = {'alpha':alpha}\n",
    "\n",
    "# Hyper parameter tunning using GridSearchCV\n",
    "model = MultinomialNB()\n",
    "grid = GridSearchCV(estimator=model, param_grid=param_grid , cv = kfold, n_jobs=2)\n",
    "grid.fit(X_train, y_train)"
   ]
  },
  {
   "cell_type": "code",
   "execution_count": 33,
   "id": "9b32c798",
   "metadata": {},
   "outputs": [
    {
     "name": "stdout",
     "output_type": "stream",
     "text": [
      "0.8352245072410616\n",
      "{'alpha': 0.1}\n"
     ]
    }
   ],
   "source": [
    "print(grid.best_score_)\n",
    "print(grid.best_params_)"
   ]
  },
  {
   "cell_type": "code",
   "execution_count": 34,
   "id": "7f5fe706",
   "metadata": {},
   "outputs": [],
   "source": [
    "para = grid.best_params_"
   ]
  },
  {
   "cell_type": "markdown",
   "id": "66e3edd5",
   "metadata": {},
   "source": [
    "### Naive Bayes Model Building"
   ]
  },
  {
   "cell_type": "code",
   "execution_count": 35,
   "id": "6eb801e1",
   "metadata": {},
   "outputs": [
    {
     "data": {
      "text/plain": [
       "MultinomialNB(alpha=0.1)"
      ]
     },
     "execution_count": 35,
     "metadata": {},
     "output_type": "execute_result"
    }
   ],
   "source": [
    "model = MultinomialNB(alpha=para['alpha'])\n",
    "\n",
    "model.fit(X_train, y_train)"
   ]
  },
  {
   "cell_type": "code",
   "execution_count": 36,
   "id": "519cb56b",
   "metadata": {},
   "outputs": [
    {
     "name": "stdout",
     "output_type": "stream",
     "text": [
      "Training Scores:-\n",
      "Accuracy Score:  0.847\n",
      "F1 Score:  0.802\n",
      "Precision Score:  0.842\n",
      "Recall Score:  0.847\n",
      "\n",
      "Testing Scores:-\n",
      "Accuracy Score:  0.832\n",
      "F1 Score:  0.782\n",
      "Precision Score:  0.779\n",
      "Recall Score:  0.832\n"
     ]
    }
   ],
   "source": [
    "y_train_pred = model.predict(X_train)\n",
    "print('Training Scores:-')\n",
    "print('Accuracy Score: ',round(accuracy_score(y_train, y_train_pred),3))\n",
    "print('F1 Score: ',round(f1_score(y_train, y_train_pred, average='weighted'),3))\n",
    "print('Precision Score: ',round(precision_score(y_train, y_train_pred, average='weighted'),3))\n",
    "print('Recall Score: ',round(recall_score(y_train, y_train_pred, average='weighted'),3))\n",
    "\n",
    "y_test_pred = model.predict(X_test)\n",
    "print('\\nTesting Scores:-')\n",
    "print('Accuracy Score: ',round(accuracy_score(y_test, y_test_pred),3))\n",
    "print('F1 Score: ',round(f1_score(y_test, y_test_pred, average='weighted'),3))\n",
    "print('Precision Score: ',round(precision_score(y_test, y_test_pred, average='weighted'),3))\n",
    "print('Recall Score: ',round(recall_score(y_test, y_test_pred, average='weighted'),3))"
   ]
  },
  {
   "cell_type": "code",
   "execution_count": 37,
   "id": "892c27e8",
   "metadata": {},
   "outputs": [
    {
     "data": {
      "image/png": "[encoded data removed]",
      "text/plain": [
       "<Figure size 576x432 with 2 Axes>"
      ]
     },
     "metadata": {
      "needs_background": "light"
     },
     "output_type": "display_data"
    }
   ],
   "source": [
    "cm = confusion_matrix(y_train, y_train_pred)\n",
    "dt = {'Negative':list(cm[0]), 'Neutral':list(cm[1]), 'Positive':list(cm[2])}\n",
    "cm_df = pd.DataFrame(dt, index=['Negative', 'Neutral', 'Positive'])\n",
    "\n",
    "plt.figure(figsize=(8,6))\n",
    "sns.heatmap(cm_df,annot=True,fmt='.0f', linewidths=1)\n",
    "plt.ylabel('Predictions', fontsize=18)\n",
    "plt.xlabel('Actuals', fontsize=18)\n",
    "plt.title('Training Confusion Matrix', fontsize=18)\n",
    "plt.show()"
   ]
  },
  {
   "cell_type": "code",
   "execution_count": 38,
   "id": "ea42fce3",
   "metadata": {},
   "outputs": [
    {
     "data": {
      "image/png": "[encoded data removed]",
      "text/plain": [
       "<Figure size 576x432 with 2 Axes>"
      ]
     },
     "metadata": {
      "needs_background": "light"
     },
     "output_type": "display_data"
    }
   ],
   "source": [
    "cm = confusion_matrix(y_test, y_test_pred)\n",
    "dt = {'Negative':list(cm[0]), 'Neutral':list(cm[1]), 'Positive':list(cm[2])}\n",
    "cm_df = pd.DataFrame(dt, index=['Negative', 'Neutral', 'Positive'])\n",
    "\n",
    "plt.figure(figsize=(8,6))\n",
    "sns.heatmap(cm_df,annot=True,fmt='.0f')\n",
    "plt.ylabel('Predictions', fontsize=18)\n",
    "plt.xlabel('Actuals', fontsize=18)\n",
    "plt.title('Testing Confusion Matrix', fontsize=18)\n",
    "plt.show()"
   ]
  },
  {
   "cell_type": "code",
   "execution_count": null,
   "id": "4ce6abdd",
   "metadata": {},
   "outputs": [],
   "source": []
  },
  {
   "cell_type": "markdown",
   "id": "afec9358",
   "metadata": {},
   "source": [
    "## 4). Decision Tree"
   ]
  },
  {
   "cell_type": "code",
   "execution_count": 39,
   "id": "65723321",
   "metadata": {},
   "outputs": [],
   "source": [
    "from sklearn.tree import  DecisionTreeClassifier"
   ]
  },
  {
   "cell_type": "code",
   "execution_count": 40,
   "id": "cf6172d6",
   "metadata": {},
   "outputs": [
    {
     "data": {
      "text/plain": [
       "0.7330408104823697"
      ]
     },
     "execution_count": 40,
     "metadata": {},
     "output_type": "execute_result"
    }
   ],
   "source": [
    "model = DecisionTreeClassifier()\n",
    "\n",
    "kfold = KFold(n_splits=5)\n",
    "result = cross_val_score(model, X_train, y_train, cv=kfold)\n",
    "result.mean()\n",
    "# model.fit(X_train, y_train)"
   ]
  },
  {
   "cell_type": "markdown",
   "id": "26aa5b79",
   "metadata": {},
   "source": [
    "### Hyperparameter Tunning"
   ]
  },
  {
   "cell_type": "code",
   "execution_count": null,
   "id": "7e082aef",
   "metadata": {},
   "outputs": [],
   "source": [
    "params = {'criterion':['entropy','gini'] ,'max_depth': [2,4,6,8,10,12], 'min_samples_split': [2,3,4]}\n",
    "\n",
    "model_test = DecisionTreeClassifier()\n",
    "gcv = GridSearchCV(estimator=model_test,param_grid=params)\n",
    "gcv.fit(X_train,y_train)"
   ]
  },
  {
   "cell_type": "code",
   "execution_count": null,
   "id": "90ccd84d",
   "metadata": {},
   "outputs": [],
   "source": [
    "print(gcv.best_score_)\n",
    "print(gcv.best_params_)"
   ]
  },
  {
   "cell_type": "code",
   "execution_count": null,
   "id": "73483a05",
   "metadata": {},
   "outputs": [],
   "source": [
    "para = gcv.best_params_"
   ]
  },
  {
   "cell_type": "markdown",
   "id": "d1baea7a",
   "metadata": {},
   "source": [
    "### Decision Tree Model Building"
   ]
  },
  {
   "cell_type": "code",
   "execution_count": null,
   "id": "3e63d2c9",
   "metadata": {},
   "outputs": [],
   "source": [
    "model = DecisionTreeClassifier(criterion=para['criterion'], max_depth=para['max_depth'], \n",
    "                               min_samples_split=para['min_samples_split'])\n",
    "\n",
    "model.fit(X_train, y_train)"
   ]
  },
  {
   "cell_type": "code",
   "execution_count": null,
   "id": "0e30a1b1",
   "metadata": {},
   "outputs": [],
   "source": [
    "y_train_pred = model.predict(X_train)\n",
    "print('Training Scores:-')\n",
    "print('Accuracy Score: ',round(accuracy_score(y_train, y_train_pred),3))\n",
    "print('F1 Score: ',round(f1_score(y_train, y_train_pred, average='weighted'),3))\n",
    "print('Precision Score: ',round(precision_score(y_train, y_train_pred, average='weighted'),3))\n",
    "print('Recall Score: ',round(recall_score(y_train, y_train_pred, average='weighted'),3))\n",
    "\n",
    "y_test_pred = model.predict(X_test)\n",
    "print('\\nTesting Scores:-')\n",
    "print('Accuracy Score: ',round(accuracy_score(y_test, y_test_pred),3))\n",
    "print('F1 Score: ',round(f1_score(y_test, y_test_pred, average='weighted'),3))\n",
    "print('Precision Score: ',round(precision_score(y_test, y_test_pred, average='weighted'),3))\n",
    "print('Recall Score: ',round(recall_score(y_test, y_test_pred, average='weighted'),3))"
   ]
  },
  {
   "cell_type": "code",
   "execution_count": null,
   "id": "af113572",
   "metadata": {},
   "outputs": [],
   "source": [
    "cm = confusion_matrix(y_train, y_train_pred)\n",
    "dt = {'Negative':list(cm[0]), 'Neutral':list(cm[1]), 'Positive':list(cm[2])}\n",
    "cm_df = pd.DataFrame(dt, index=['Negative', 'Neutral', 'Positive'])\n",
    "\n",
    "plt.figure(figsize=(8,6))\n",
    "sns.heatmap(cm_df,annot=True,fmt='.0f', linewidths=1)\n",
    "plt.ylabel('Predictions', fontsize=18)\n",
    "plt.xlabel('Actuals', fontsize=18)\n",
    "plt.title('Training Confusion Matrix', fontsize=18)\n",
    "plt.show()"
   ]
  },
  {
   "cell_type": "code",
   "execution_count": null,
   "id": "b587c709",
   "metadata": {},
   "outputs": [],
   "source": [
    "cm = confusion_matrix(y_test, y_test_pred)\n",
    "dt = {'Negative':list(cm[0]), 'Neutral':list(cm[1]), 'Positive':list(cm[2])}\n",
    "cm_df = pd.DataFrame(dt, index=['Negative', 'Neutral', 'Positive'])\n",
    "\n",
    "plt.figure(figsize=(8,6))\n",
    "sns.heatmap(cm_df,annot=True,fmt='.0f')\n",
    "plt.ylabel('Predictions', fontsize=18)\n",
    "plt.xlabel('Actuals', fontsize=18)\n",
    "plt.title('Testing Confusion Matrix', fontsize=18)\n",
    "plt.show()"
   ]
  },
  {
   "cell_type": "code",
   "execution_count": null,
   "id": "2557936e",
   "metadata": {},
   "outputs": [],
   "source": []
  }
 ],
 "metadata": {
  "kernelspec": {
   "display_name": "Python 3 (ipykernel)",
   "language": "python",
   "name": "python3"
  },
  "language_info": {
   "codemirror_mode": {
    "name": "ipython",
    "version": 3
   },
   "file_extension": ".py",
   "mimetype": "text/x-python",
   "name": "python",
   "nbconvert_exporter": "python",
   "pygments_lexer": "ipython3",
   "version": "3.9.12"
  }
 },
 "nbformat": 4,
 "nbformat_minor": 5
}
